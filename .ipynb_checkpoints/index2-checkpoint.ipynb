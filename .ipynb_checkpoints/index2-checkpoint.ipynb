{
 "cells": [
  {
   "cell_type": "code",
   "execution_count": 1,
   "metadata": {},
   "outputs": [],
   "source": [
    "const axios = require('axios')\n",
    "let uuid = require('uuid')"
   ]
  },
  {
   "cell_type": "code",
   "execution_count": 2,
   "metadata": {},
   "outputs": [],
   "source": [
    "let cargos = []\n",
    "let cargos_lists = []\n",
    "let destinations = [\"CGK\", 'MDC', 'DPS', 'PNK', 'MES']"
   ]
  },
  {
   "cell_type": "code",
   "execution_count": 3,
   "metadata": {},
   "outputs": [
    {
     "name": "stdout",
     "output_type": "stream",
     "text": [
      "took 1\n"
     ]
    }
   ],
   "source": [
    "let start = new Date();\n",
    "for(i = 0; i <= 10 ; i++){\n",
    "    let weight=[];\n",
    "    for(j=0 ; j <= 10; j++){\n",
    "        weight.push(Math.random());\n",
    "    }\n",
    "\n",
    "    let newCargo = {\n",
    "    'id': uuid.v4(),\n",
    "    'owner': \"John Doe\",\n",
    "    'destination': destinations[Math.floor(Math.random() * 4) ],\n",
    "    'weight': weight,\n",
    "    'isDG': Math.random() >= 0.5\n",
    "    }\n",
    "    \n",
    "    cargos[newCargo.id]=newCargo\n",
    "    cargos_lists.push(newCargo.id)\n",
    "}\n",
    "\n",
    "let end = new Date() - start;\n",
    "console.log(`took %d`, end);\n",
    "\n"
   ]
  },
  {
   "cell_type": "code",
   "execution_count": 16,
   "metadata": {},
   "outputs": [
    {
     "data": {
      "text/plain": [
       "[\n",
       "  'f764609b-700f-4285-bc4a-e2c75be4a110': {\n",
       "    id: 'f764609b-700f-4285-bc4a-e2c75be4a110',\n",
       "    owner: 'John Doe',\n",
       "    destination: 'MDC',\n",
       "    weight: [\n",
       "      0.9737998901581522,\n",
       "      0.4980143930045311,\n",
       "      0.15526993644137344,\n",
       "      0.43162586853803675,\n",
       "      0.6003061311444102,\n",
       "      0.14377317722491245,\n",
       "      0.8145833527290618,\n",
       "      0.4982193167341966,\n",
       "      0.09349724320961972,\n",
       "      0.18222406821254,\n",
       "      0.8029372639794354\n",
       "    ],\n",
       "    isDG: false\n",
       "  },\n",
       "  'a8b8b16b-4a21-4b69-ba68-d101d793db19': {\n",
       "    id: 'a8b8b16b-4a21-4b69-ba68-d101d793db19',\n",
       "    owner: 'John Doe',\n",
       "    destination: 'CGK',\n",
       "    weight: [\n",
       "      0.935249895078234,\n",
       "      0.015515633740708301,\n",
       "      0.5021544006178416,\n",
       "      0.6813600273312106,\n",
       "      0.2278497315508612,\n",
       "      0.6348995225003764,\n",
       "      0.3486960835743069,\n",
       "      0.6395627672154423,\n",
       "      0.9442157797859241,\n",
       "      0.5926389422770915,\n",
       "      0.010492848524481513\n",
       "    ],\n",
       "    isDG: false\n",
       "  },\n",
       "  '5cac4291-2954-4409-aa12-5620d32bd672': {\n",
       "    id: '5cac4291-2954-4409-aa12-5620d32bd672',\n",
       "    owner: 'John Doe',\n",
       "    destination: 'CGK',\n",
       "    weight: [\n",
       "      0.13157583401523398,\n",
       "      0.8088476390074208,\n",
       "      0.782690066320815,\n",
       "      0.33108429031415865,\n",
       "      0.9748189919962618,\n",
       "      0.9586450271996814,\n",
       "      0.5150560807647875,\n",
       "      0.2155720301033477,\n",
       "      0.07342727772168178,\n",
       "      0.572944726473056,\n",
       "      0.19555684292734066\n",
       "    ],\n",
       "    isDG: false\n",
       "  },\n",
       "  '7882eb53-b64a-4769-a9b2-9b0c4d9493aa': {\n",
       "    id: '7882eb53-b64a-4769-a9b2-9b0c4d9493aa',\n",
       "    owner: 'John Doe',\n",
       "    destination: 'MDC',\n",
       "    weight: [\n",
       "      0.14423267091197878,\n",
       "      0.023196395670183945,\n",
       "      0.2167494401231307,\n",
       "      0.23935223361149505,\n",
       "      0.05155611365643975,\n",
       "      0.8760999218738272,\n",
       "      0.0819940536878565,\n",
       "      0.198024961173612,\n",
       "      0.6591332624387454,\n",
       "      0.36905691235728133,\n",
       "      0.197837324993958\n",
       "    ],\n",
       "    isDG: true\n",
       "  },\n",
       "  '7c5d587b-3e3b-4933-a68c-48996a2d894e': {\n",
       "    id: '7c5d587b-3e3b-4933-a68c-48996a2d894e',\n",
       "    owner: 'John Doe',\n",
       "    destination: 'CGK',\n",
       "    weight: [\n",
       "      0.13378817672899812,\n",
       "      0.25057455448323984,\n",
       "      0.24975518787246576,\n",
       "      0.3180313327482933,\n",
       "      0.4912109464735548,\n",
       "      0.9500650016668966,\n",
       "      0.4169967045153915,\n",
       "      0.9138529822325157,\n",
       "      0.37174485442100424,\n",
       "      0.7939755309367829,\n",
       "      0.9059695543374291\n",
       "    ],\n",
       "    isDG: true\n",
       "  },\n",
       "  'b89dffb8-7133-495c-8043-045d8898ee03': {\n",
       "    id: 'b89dffb8-7133-495c-8043-045d8898ee03',\n",
       "    owner: 'John Doe',\n",
       "    destination: 'MDC',\n",
       "    weight: [\n",
       "      0.6853446626690503,\n",
       "      0.5189113582516762,\n",
       "      0.6831136370410353,\n",
       "      0.2556989692434335,\n",
       "      0.2542409517344406,\n",
       "      0.4459928806391338,\n",
       "      0.4984906076651088,\n",
       "      0.6879535604607394,\n",
       "      0.1325716890587345,\n",
       "      0.929624019230805,\n",
       "      0.8492673735055489\n",
       "    ],\n",
       "    isDG: true\n",
       "  },\n",
       "  '0d493894-06c0-4f70-9b61-64aa29a2b6e9': {\n",
       "    id: '0d493894-06c0-4f70-9b61-64aa29a2b6e9',\n",
       "    owner: 'John Doe',\n",
       "    destination: 'PNK',\n",
       "    weight: [\n",
       "      0.056775900994304074,\n",
       "      0.2618681184197327,\n",
       "      0.30972778927276057,\n",
       "      0.5036037623352798,\n",
       "      0.6773599846081748,\n",
       "      0.8787375453389121,\n",
       "      0.06319086148669628,\n",
       "      0.7989720386988295,\n",
       "      0.14015233482725864,\n",
       "      0.7522173151251961,\n",
       "      0.2788054515548266\n",
       "    ],\n",
       "    isDG: true\n",
       "  },\n",
       "  '377b6add-1d07-4fd8-832e-374f8bae7c69': {\n",
       "    id: '377b6add-1d07-4fd8-832e-374f8bae7c69',\n",
       "    owner: 'John Doe',\n",
       "    destination: 'DPS',\n",
       "    weight: [\n",
       "      0.8333543480614536,\n",
       "      0.49811380353710843,\n",
       "      0.7870311009034803,\n",
       "      0.991231357328969,\n",
       "      0.5754295177553919,\n",
       "      0.7021069364627621,\n",
       "      0.22526134240743945,\n",
       "      0.042343557231557805,\n",
       "      0.37950781842443004,\n",
       "      0.9797642906806585,\n",
       "      0.16084846242240136\n",
       "    ],\n",
       "    isDG: true\n",
       "  },\n",
       "  '7f24d0ea-6235-4bfe-a05f-ab68558305e8': {\n",
       "    id: '7f24d0ea-6235-4bfe-a05f-ab68558305e8',\n",
       "    owner: 'John Doe',\n",
       "    destination: 'PNK',\n",
       "    weight: [\n",
       "      0.5860820417270569,\n",
       "      0.1908445606599254,\n",
       "      0.8429529001475153,\n",
       "      0.4835222497797249,\n",
       "      0.4811668205915567,\n",
       "      0.7897454252404501,\n",
       "      0.3288313025540166,\n",
       "      0.7696237987926791,\n",
       "      0.03940374927751766,\n",
       "      0.8001437204767543,\n",
       "      0.3676456924840843\n",
       "    ],\n",
       "    isDG: false\n",
       "  },\n",
       "  '960d8b9d-5ae9-4533-9109-b80ab54fc146': {\n",
       "    id: '960d8b9d-5ae9-4533-9109-b80ab54fc146',\n",
       "    owner: 'John Doe',\n",
       "    destination: 'CGK',\n",
       "    weight: [\n",
       "      0.25647874131072923,\n",
       "      0.6093475639153698,\n",
       "      0.599226386839625,\n",
       "      0.4889835713962798,\n",
       "      0.21957777277326307,\n",
       "      0.26512253600055957,\n",
       "      0.29426970367116345,\n",
       "      0.6799798787569489,\n",
       "      0.5961224426817135,\n",
       "      0.4629867375151968,\n",
       "      0.012778631106276972\n",
       "    ],\n",
       "    isDG: true\n",
       "  },\n",
       "  'ffea9c1a-3d7a-4e8b-9518-1bd331cea3e9': {\n",
       "    id: 'ffea9c1a-3d7a-4e8b-9518-1bd331cea3e9',\n",
       "    owner: 'John Doe',\n",
       "    destination: 'PNK',\n",
       "    weight: [\n",
       "      0.33108675213975425,\n",
       "      0.6738124466481588,\n",
       "      0.3999607110732646,\n",
       "      0.4614621085332802,\n",
       "      0.8686872488541715,\n",
       "      0.10268911069153974,\n",
       "      0.7243636237764837,\n",
       "      0.2518563137269316,\n",
       "      0.29043194060705524,\n",
       "      0.9077266316177797,\n",
       "      0.9906088559103041\n",
       "    ],\n",
       "    isDG: false\n",
       "  }\n",
       "]"
      ]
     },
     "execution_count": 16,
     "metadata": {},
     "output_type": "execute_result"
    }
   ],
   "source": [
    "cargos"
   ]
  },
  {
   "cell_type": "code",
   "execution_count": 18,
   "metadata": {},
   "outputs": [
    {
     "data": {
      "text/plain": [
       "'MDC'"
      ]
     },
     "execution_count": 18,
     "metadata": {},
     "output_type": "execute_result"
    }
   ],
   "source": []
  },
  {
   "cell_type": "code",
   "execution_count": null,
   "metadata": {},
   "outputs": [],
   "source": []
  },
  {
   "cell_type": "code",
   "execution_count": null,
   "metadata": {},
   "outputs": [],
   "source": []
  },
  {
   "cell_type": "code",
   "execution_count": null,
   "metadata": {},
   "outputs": [],
   "source": []
  },
  {
   "cell_type": "code",
   "execution_count": null,
   "metadata": {},
   "outputs": [],
   "source": []
  },
  {
   "cell_type": "code",
   "execution_count": null,
   "metadata": {},
   "outputs": [],
   "source": []
  },
  {
   "cell_type": "code",
   "execution_count": null,
   "metadata": {},
   "outputs": [],
   "source": []
  },
  {
   "cell_type": "code",
   "execution_count": null,
   "metadata": {},
   "outputs": [],
   "source": []
  },
  {
   "cell_type": "code",
   "execution_count": null,
   "metadata": {},
   "outputs": [],
   "source": []
  },
  {
   "cell_type": "code",
   "execution_count": null,
   "metadata": {},
   "outputs": [],
   "source": []
  },
  {
   "cell_type": "code",
   "execution_count": null,
   "metadata": {},
   "outputs": [],
   "source": []
  },
  {
   "cell_type": "code",
   "execution_count": null,
   "metadata": {},
   "outputs": [],
   "source": []
  },
  {
   "cell_type": "code",
   "execution_count": null,
   "metadata": {},
   "outputs": [],
   "source": []
  },
  {
   "cell_type": "code",
   "execution_count": null,
   "metadata": {},
   "outputs": [],
   "source": []
  },
  {
   "cell_type": "code",
   "execution_count": null,
   "metadata": {},
   "outputs": [],
   "source": []
  },
  {
   "cell_type": "code",
   "execution_count": null,
   "metadata": {},
   "outputs": [],
   "source": []
  },
  {
   "cell_type": "code",
   "execution_count": null,
   "metadata": {},
   "outputs": [],
   "source": []
  },
  {
   "cell_type": "code",
   "execution_count": null,
   "metadata": {},
   "outputs": [],
   "source": []
  },
  {
   "cell_type": "code",
   "execution_count": null,
   "metadata": {},
   "outputs": [],
   "source": []
  },
  {
   "cell_type": "code",
   "execution_count": null,
   "metadata": {},
   "outputs": [],
   "source": []
  },
  {
   "cell_type": "code",
   "execution_count": null,
   "metadata": {},
   "outputs": [],
   "source": []
  },
  {
   "cell_type": "code",
   "execution_count": null,
   "metadata": {},
   "outputs": [],
   "source": []
  },
  {
   "cell_type": "code",
   "execution_count": null,
   "metadata": {},
   "outputs": [],
   "source": []
  },
  {
   "cell_type": "code",
   "execution_count": null,
   "metadata": {},
   "outputs": [],
   "source": []
  },
  {
   "cell_type": "code",
   "execution_count": null,
   "metadata": {},
   "outputs": [],
   "source": []
  },
  {
   "cell_type": "code",
   "execution_count": null,
   "metadata": {},
   "outputs": [],
   "source": []
  },
  {
   "cell_type": "code",
   "execution_count": null,
   "metadata": {},
   "outputs": [],
   "source": []
  },
  {
   "cell_type": "code",
   "execution_count": null,
   "metadata": {},
   "outputs": [],
   "source": []
  },
  {
   "cell_type": "code",
   "execution_count": null,
   "metadata": {},
   "outputs": [],
   "source": []
  },
  {
   "cell_type": "code",
   "execution_count": null,
   "metadata": {},
   "outputs": [],
   "source": []
  },
  {
   "cell_type": "code",
   "execution_count": null,
   "metadata": {},
   "outputs": [],
   "source": []
  },
  {
   "cell_type": "code",
   "execution_count": null,
   "metadata": {},
   "outputs": [],
   "source": []
  },
  {
   "cell_type": "code",
   "execution_count": null,
   "metadata": {},
   "outputs": [],
   "source": []
  },
  {
   "cell_type": "code",
   "execution_count": null,
   "metadata": {},
   "outputs": [],
   "source": []
  },
  {
   "cell_type": "code",
   "execution_count": null,
   "metadata": {},
   "outputs": [],
   "source": []
  },
  {
   "cell_type": "code",
   "execution_count": null,
   "metadata": {},
   "outputs": [],
   "source": []
  },
  {
   "cell_type": "code",
   "execution_count": null,
   "metadata": {},
   "outputs": [],
   "source": []
  },
  {
   "cell_type": "code",
   "execution_count": null,
   "metadata": {},
   "outputs": [],
   "source": []
  },
  {
   "cell_type": "code",
   "execution_count": null,
   "metadata": {},
   "outputs": [],
   "source": []
  },
  {
   "cell_type": "code",
   "execution_count": null,
   "metadata": {},
   "outputs": [],
   "source": []
  },
  {
   "cell_type": "code",
   "execution_count": null,
   "metadata": {},
   "outputs": [],
   "source": []
  },
  {
   "cell_type": "code",
   "execution_count": null,
   "metadata": {},
   "outputs": [],
   "source": []
  },
  {
   "cell_type": "code",
   "execution_count": null,
   "metadata": {},
   "outputs": [],
   "source": []
  },
  {
   "cell_type": "code",
   "execution_count": null,
   "metadata": {},
   "outputs": [],
   "source": []
  },
  {
   "cell_type": "code",
   "execution_count": null,
   "metadata": {},
   "outputs": [],
   "source": []
  },
  {
   "cell_type": "code",
   "execution_count": null,
   "metadata": {},
   "outputs": [],
   "source": []
  },
  {
   "cell_type": "code",
   "execution_count": null,
   "metadata": {},
   "outputs": [],
   "source": [
    "console.log(dg_lists)"
   ]
  },
  {
   "cell_type": "code",
   "execution_count": null,
   "metadata": {},
   "outputs": [],
   "source": []
  },
  {
   "cell_type": "code",
   "execution_count": null,
   "metadata": {},
   "outputs": [],
   "source": []
  },
  {
   "cell_type": "code",
   "execution_count": null,
   "metadata": {},
   "outputs": [],
   "source": []
  },
  {
   "cell_type": "code",
   "execution_count": null,
   "metadata": {},
   "outputs": [],
   "source": []
  },
  {
   "cell_type": "code",
   "execution_count": null,
   "metadata": {},
   "outputs": [],
   "source": []
  },
  {
   "cell_type": "code",
   "execution_count": null,
   "metadata": {},
   "outputs": [],
   "source": []
  },
  {
   "cell_type": "code",
   "execution_count": null,
   "metadata": {},
   "outputs": [],
   "source": []
  },
  {
   "cell_type": "code",
   "execution_count": null,
   "metadata": {},
   "outputs": [],
   "source": []
  },
  {
   "cell_type": "code",
   "execution_count": null,
   "metadata": {},
   "outputs": [],
   "source": []
  },
  {
   "cell_type": "code",
   "execution_count": null,
   "metadata": {},
   "outputs": [],
   "source": []
  },
  {
   "cell_type": "code",
   "execution_count": null,
   "metadata": {},
   "outputs": [],
   "source": []
  },
  {
   "cell_type": "code",
   "execution_count": null,
   "metadata": {},
   "outputs": [],
   "source": []
  },
  {
   "cell_type": "code",
   "execution_count": null,
   "metadata": {},
   "outputs": [],
   "source": []
  },
  {
   "cell_type": "code",
   "execution_count": null,
   "metadata": {},
   "outputs": [],
   "source": []
  },
  {
   "cell_type": "code",
   "execution_count": null,
   "metadata": {},
   "outputs": [],
   "source": []
  },
  {
   "cell_type": "code",
   "execution_count": null,
   "metadata": {},
   "outputs": [],
   "source": []
  },
  {
   "cell_type": "code",
   "execution_count": null,
   "metadata": {},
   "outputs": [],
   "source": []
  },
  {
   "cell_type": "code",
   "execution_count": null,
   "metadata": {},
   "outputs": [],
   "source": []
  },
  {
   "cell_type": "code",
   "execution_count": null,
   "metadata": {},
   "outputs": [],
   "source": []
  },
  {
   "cell_type": "code",
   "execution_count": null,
   "metadata": {},
   "outputs": [],
   "source": []
  },
  {
   "cell_type": "code",
   "execution_count": null,
   "metadata": {},
   "outputs": [],
   "source": []
  }
 ],
 "metadata": {
  "kernelspec": {
   "display_name": "Javascript (Node.js)",
   "language": "javascript",
   "name": "javascript"
  },
  "language_info": {
   "file_extension": ".js",
   "mimetype": "application/javascript",
   "name": "javascript",
   "version": "12.16.1"
  }
 },
 "nbformat": 4,
 "nbformat_minor": 4
}
