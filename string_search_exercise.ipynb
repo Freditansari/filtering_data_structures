{
 "cells": [
  {
   "cell_type": "code",
   "execution_count": 6,
   "metadata": {},
   "outputs": [
    {
     "ename": "SyntaxError",
     "evalue": "Identifier 'value' has already been declared",
     "execution_count": 6,
     "output_type": "error",
     "traceback": [
      "evalmachine.<anonymous>:1",
      "let value = 'Vladivostok';",
      "^",
      "",
      "SyntaxError: Identifier 'value' has already been declared",
      "    at evalmachine.<anonymous>:1:1",
      "    at Script.runInThisContext (vm.js:120:20)",
      "    at Object.runInThisContext (vm.js:311:38)",
      "    at run ([eval]:1054:15)",
      "    at onRunRequest ([eval]:888:18)",
      "    at onMessage ([eval]:848:13)",
      "    at process.emit (events.js:311:20)",
      "    at emit (internal/child_process.js:876:12)",
      "    at processTicksAndRejections (internal/process/task_queues.js:85:21)"
     ]
    }
   ],
   "source": [
    "let value = 'Vladivostok';"
   ]
  },
  {
   "cell_type": "code",
   "execution_count": 2,
   "metadata": {},
   "outputs": [],
   "source": [
    "const split_value = [...value.toLowerCase()]\n",
    "let result= [];"
   ]
  },
  {
   "cell_type": "code",
   "execution_count": 3,
   "metadata": {},
   "outputs": [],
   "source": [
    "const string_vowels ='aiueo';\n",
    "const split_vowels = [...string_vowels]"
   ]
  },
  {
   "cell_type": "code",
   "execution_count": 4,
   "metadata": {},
   "outputs": [
    {
     "name": "stdout",
     "output_type": "stream",
     "text": [
      "a compare to j false\n",
      "i compare to j false\n",
      "u compare to j false\n",
      "e compare to j false\n",
      "o compare to j false\n",
      "a compare to a true\n",
      "i compare to a false\n",
      "u compare to a false\n",
      "e compare to a false\n",
      "o compare to a false\n",
      "a compare to k false\n",
      "i compare to k false\n",
      "u compare to k false\n",
      "e compare to k false\n",
      "o compare to k false\n",
      "a compare to a true\n",
      "i compare to a false\n",
      "u compare to a false\n",
      "e compare to a false\n",
      "o compare to a false\n",
      "a compare to r false\n",
      "i compare to r false\n",
      "u compare to r false\n",
      "e compare to r false\n",
      "o compare to r false\n",
      "a compare to t false\n",
      "i compare to t false\n",
      "u compare to t false\n",
      "e compare to t false\n",
      "o compare to t false\n",
      "a compare to a true\n",
      "i compare to a false\n",
      "u compare to a false\n",
      "e compare to a false\n",
      "o compare to a false\n"
     ]
    }
   ],
   "source": [
    "let vowel_found=split_value.filter(value =>{\n",
    "    split_vowels.map(vowel =>{\n",
    "        if(vowel === value){\n",
    "            console.log(vowel +' compare to '+ value+ ' true')\n",
    "            result.push(vowel);\n",
    "            return true;\n",
    "        }else {\n",
    "            console.log(vowel +' compare to '+ value + ' false')\n",
    "            return false;\n",
    "        }\n",
    "    })\n",
    "})"
   ]
  },
  {
   "cell_type": "code",
   "execution_count": null,
   "metadata": {},
   "outputs": [],
   "source": []
  },
  {
   "cell_type": "code",
   "execution_count": 5,
   "metadata": {},
   "outputs": [
    {
     "name": "stdout",
     "output_type": "stream",
     "text": [
      "[ 'a', 'a', 'a' ]\n"
     ]
    }
   ],
   "source": [
    "console.log(result)"
   ]
  },
  {
   "cell_type": "code",
   "execution_count": null,
   "metadata": {},
   "outputs": [],
   "source": []
  },
  {
   "cell_type": "code",
   "execution_count": null,
   "metadata": {},
   "outputs": [],
   "source": []
  },
  {
   "cell_type": "code",
   "execution_count": null,
   "metadata": {},
   "outputs": [],
   "source": []
  },
  {
   "cell_type": "code",
   "execution_count": null,
   "metadata": {},
   "outputs": [],
   "source": []
  }
 ],
 "metadata": {
  "kernelspec": {
   "display_name": "Javascript (Node.js)",
   "language": "javascript",
   "name": "javascript"
  },
  "language_info": {
   "file_extension": ".js",
   "mimetype": "application/javascript",
   "name": "javascript",
   "version": "12.16.1"
  }
 },
 "nbformat": 4,
 "nbformat_minor": 4
}
